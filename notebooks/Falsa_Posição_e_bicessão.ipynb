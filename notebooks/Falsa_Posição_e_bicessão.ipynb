{
  "nbformat": 4,
  "nbformat_minor": 0,
  "metadata": {
    "colab": {
      "provenance": [],
      "collapsed_sections": []
    },
    "kernelspec": {
      "name": "python3",
      "display_name": "Python 3"
    },
    "language_info": {
      "name": "python"
    }
  },
  "cells": [
    {
      "cell_type": "markdown",
      "source": [
        "# Falsa Posição e bisseção\n",
        "\n",
        "---\n",
        "**Autor:** _Vinicius Zapalá dos Santos_\n",
        "\n",
        "**RA:** _3019109027_"
      ],
      "metadata": {
        "id": "0tIQ24nd1Q6J"
      }
    },
    {
      "cell_type": "markdown",
      "source": [
        "Importando libs necessarias"
      ],
      "metadata": {
        "id": "NTQx5btG5hZI"
      }
    },
    {
      "cell_type": "code",
      "source": [
        "import math\n",
        "\n",
        "import pandas as pd"
      ],
      "metadata": {
        "id": "BtoISxdL5kN4"
      },
      "execution_count": 641,
      "outputs": []
    },
    {
      "cell_type": "markdown",
      "source": [
        "Executando função com os intervalos dados"
      ],
      "metadata": {
        "id": "g3sZjrlTMtsY"
      }
    },
    {
      "cell_type": "code",
      "source": [
        "def funcExecute(a,b, func):\n",
        "  fA = func(a)\n",
        "  fB = func(b)\n",
        "\n",
        "  return fA ,fB"
      ],
      "metadata": {
        "id": "ZPU8MPWQMphJ"
      },
      "execution_count": 642,
      "outputs": []
    },
    {
      "cell_type": "markdown",
      "source": [
        "Aplicação do __Teorema de *Bolzano*__ _(teorema do valor intermediario)_, para verificar a existencia da raiz"
      ],
      "metadata": {
        "id": "8pXs2L57-bDU"
      }
    },
    {
      "cell_type": "code",
      "execution_count": 643,
      "metadata": {
        "id": "t0FQ2Jne1GMe"
      },
      "outputs": [],
      "source": [
        "def bolzano(fA, fB):\n",
        "  r = fA*fB\n",
        "\n",
        "  return r<=0"
      ]
    },
    {
      "cell_type": "markdown",
      "source": [
        "Criando função para o método de **_Bisseção_** _(bissecção)_.\n",
        "\n",
        "$$\n",
        "x_r= \\frac{a+b}{2}\n",
        "$$"
      ],
      "metadata": {
        "id": "Q8XlfeziC0wA"
      }
    },
    {
      "cell_type": "code",
      "source": [
        "def bisection(a,b):\n",
        "  return (a+b)/2"
      ],
      "metadata": {
        "id": "uKO2HC8FD9WF"
      },
      "execution_count": 644,
      "outputs": []
    },
    {
      "cell_type": "markdown",
      "source": [
        "Criando função para o método da **_posição falsa_**\n",
        "\n",
        "$$\n",
        "x_r= \\frac{a.f(b)-b.f(a)}{f(b)-f(a)}\n",
        "$$"
      ],
      "metadata": {
        "id": "07G9JC9jEqpT"
      }
    },
    {
      "cell_type": "code",
      "source": [
        "def falsePosition(a,b, fA, fB):\n",
        "  return (a*fB - b*fA) / (fB-fA)"
      ],
      "metadata": {
        "id": "R4TEiIFYEq78"
      },
      "execution_count": 645,
      "outputs": []
    },
    {
      "cell_type": "markdown",
      "source": [
        "Resolvendo a partir do método escolhido"
      ],
      "metadata": {
        "id": "J8vPQ1QKA2H0"
      }
    },
    {
      "cell_type": "code",
      "source": [
        "def methodResolution(methodResoltutionChoise, func, a,b, criterion):\n",
        "  index = 0\n",
        "  maxInteractions = 1000\n",
        "  aValues, bValues, rootList, intervalList, signalValues = list(),list(),list(),list(),list()\n",
        "\n",
        "  while True:\n",
        "\n",
        "    index += 1  \n",
        "    fA, fB = funcExecute(a, b, func)\n",
        "\n",
        "    if (methodResoltutionChoise == bisection):\n",
        "      root = methodResoltutionChoise(a,b)\n",
        "    elif (methodResoltutionChoise == falsePosition ):\n",
        "      root = methodResoltutionChoise(a,b, fA, fB)\n",
        "\n",
        "    signal = func(root)\n",
        "    \n",
        "    #set new line\n",
        "    signalValues.append(signal);\n",
        "    aValues.append(a);\n",
        "    rootList.append(root);\n",
        "    bValues.append(b);\n",
        "    intervalList.append([a,b])\n",
        "\n",
        "    #updating a and b values\n",
        "    if(abs(signal) <= criterion):\n",
        "      break # a,b,raiz,sinal\n",
        "\n",
        "    \n",
        "    if (fA>0):\n",
        "      if(signal>0):\n",
        "        a=root\n",
        "        aValues[-1] = a\n",
        "      elif(signal<0):\n",
        "        b=root\n",
        "        bValues[-1] = b\n",
        "    \n",
        "    elif (fB>0):\n",
        "      if(signal>0):\n",
        "        b=root\n",
        "        bValues[-1] = b\n",
        "    \n",
        "      elif (signal<0):\n",
        "        a=root\n",
        "        aValues[-1] = a\n",
        "    \n",
        "\n",
        "    if(index>=maxInteractions):\n",
        "      return f\"mais de {maxInteractions} interações\"\n",
        "\n",
        "  # Generate table\n",
        "  tableData = pd.DataFrame({\"a\":aValues, \"b\":bValues, \"Raiz\": root ,\"Sinal\":signalValues, \"intervalo\":intervalList})\n",
        "  tableData.index += 1\n",
        "\n",
        "  return tableData"
      ],
      "metadata": {
        "id": "A9epwSS1pMeC"
      },
      "execution_count": 646,
      "outputs": []
    },
    {
      "cell_type": "markdown",
      "source": [
        "Resolução"
      ],
      "metadata": {
        "id": "HV1wfHEFLii6"
      }
    },
    {
      "cell_type": "code",
      "source": [
        "def resolution(func, a, b, criterion):\n",
        "  fA, fB = funcExecute(a, b, func)\n",
        "\n",
        "  if(bolzano(fA, fB)):\n",
        "    \n",
        "    bisectionTable = methodResolution(bisection, func, a,b, criterion) \n",
        "    falsePositionTable = methodResolution(falsePosition, func, a,b, criterion)      \n",
        "    \n",
        "    return bisectionTable, falsePositionTable\n",
        "  else:\n",
        "    message = \"Não há Raiz.\"\n",
        "\n",
        "    return message, message "
      ],
      "metadata": {
        "id": "66Lvgja6Lk2H"
      },
      "execution_count": 647,
      "outputs": []
    },
    {
      "cell_type": "markdown",
      "source": [
        "## Exercícios"
      ],
      "metadata": {
        "id": "TuPbTPjA5Iau"
      }
    },
    {
      "cell_type": "markdown",
      "source": [
        "### 1. $$\n",
        "f(x)=sen(x)+cos(x) \\\\\n",
        "[2,3]\\\\\n",
        "E<0.0005\n",
        "$$"
      ],
      "metadata": {
        "id": "bFKHsa4D1gpc"
      }
    },
    {
      "cell_type": "code",
      "source": [
        "def func(x):\n",
        "  return (math.sin(x) + math.cos(x))\n",
        "\n",
        "a = 2; b =3;\n",
        "criterion = 0.0005\n",
        "\n",
        "bisectionSolution, falsePositionSolution = resolution(func, a, b, criterion)"
      ],
      "metadata": {
        "id": "xtq4cxylB0sL"
      },
      "execution_count": 648,
      "outputs": []
    },
    {
      "cell_type": "code",
      "source": [
        "bisectionSolution"
      ],
      "metadata": {
        "colab": {
          "base_uri": "https://localhost:8080/",
          "height": 363
        },
        "id": "geeUXPkkEovE",
        "outputId": "cd9ed1d3-ae62-4534-8c94-ac53666c1f8e"
      },
      "execution_count": 649,
      "outputs": [
        {
          "output_type": "execute_result",
          "data": {
            "text/plain": [
              "           a         b      Raiz     Sinal                  intervalo\n",
              "1   2.000000  2.500000  2.356445 -0.202671                     [2, 3]\n",
              "2   2.250000  2.500000  2.356445  0.149900                   [2, 2.5]\n",
              "3   2.250000  2.375000  2.356445 -0.026593                [2.25, 2.5]\n",
              "4   2.312500  2.375000  2.356445  0.061774              [2.25, 2.375]\n",
              "5   2.343750  2.375000  2.356445  0.017599            [2.3125, 2.375]\n",
              "6   2.343750  2.359375  2.356445 -0.004498           [2.34375, 2.375]\n",
              "7   2.351562  2.359375  2.356445  0.006551        [2.34375, 2.359375]\n",
              "8   2.355469  2.359375  2.356445  0.001026      [2.3515625, 2.359375]\n",
              "9   2.355469  2.357422  2.356445 -0.001736     [2.35546875, 2.359375]\n",
              "10  2.355469  2.357422  2.356445 -0.000355  [2.35546875, 2.357421875]"
            ],
            "text/html": [
              "\n",
              "  <div id=\"df-d8e116ed-3df3-406f-8dce-8485c048652e\">\n",
              "    <div class=\"colab-df-container\">\n",
              "      <div>\n",
              "<style scoped>\n",
              "    .dataframe tbody tr th:only-of-type {\n",
              "        vertical-align: middle;\n",
              "    }\n",
              "\n",
              "    .dataframe tbody tr th {\n",
              "        vertical-align: top;\n",
              "    }\n",
              "\n",
              "    .dataframe thead th {\n",
              "        text-align: right;\n",
              "    }\n",
              "</style>\n",
              "<table border=\"1\" class=\"dataframe\">\n",
              "  <thead>\n",
              "    <tr style=\"text-align: right;\">\n",
              "      <th></th>\n",
              "      <th>a</th>\n",
              "      <th>b</th>\n",
              "      <th>Raiz</th>\n",
              "      <th>Sinal</th>\n",
              "      <th>intervalo</th>\n",
              "    </tr>\n",
              "  </thead>\n",
              "  <tbody>\n",
              "    <tr>\n",
              "      <th>1</th>\n",
              "      <td>2.000000</td>\n",
              "      <td>2.500000</td>\n",
              "      <td>2.356445</td>\n",
              "      <td>-0.202671</td>\n",
              "      <td>[2, 3]</td>\n",
              "    </tr>\n",
              "    <tr>\n",
              "      <th>2</th>\n",
              "      <td>2.250000</td>\n",
              "      <td>2.500000</td>\n",
              "      <td>2.356445</td>\n",
              "      <td>0.149900</td>\n",
              "      <td>[2, 2.5]</td>\n",
              "    </tr>\n",
              "    <tr>\n",
              "      <th>3</th>\n",
              "      <td>2.250000</td>\n",
              "      <td>2.375000</td>\n",
              "      <td>2.356445</td>\n",
              "      <td>-0.026593</td>\n",
              "      <td>[2.25, 2.5]</td>\n",
              "    </tr>\n",
              "    <tr>\n",
              "      <th>4</th>\n",
              "      <td>2.312500</td>\n",
              "      <td>2.375000</td>\n",
              "      <td>2.356445</td>\n",
              "      <td>0.061774</td>\n",
              "      <td>[2.25, 2.375]</td>\n",
              "    </tr>\n",
              "    <tr>\n",
              "      <th>5</th>\n",
              "      <td>2.343750</td>\n",
              "      <td>2.375000</td>\n",
              "      <td>2.356445</td>\n",
              "      <td>0.017599</td>\n",
              "      <td>[2.3125, 2.375]</td>\n",
              "    </tr>\n",
              "    <tr>\n",
              "      <th>6</th>\n",
              "      <td>2.343750</td>\n",
              "      <td>2.359375</td>\n",
              "      <td>2.356445</td>\n",
              "      <td>-0.004498</td>\n",
              "      <td>[2.34375, 2.375]</td>\n",
              "    </tr>\n",
              "    <tr>\n",
              "      <th>7</th>\n",
              "      <td>2.351562</td>\n",
              "      <td>2.359375</td>\n",
              "      <td>2.356445</td>\n",
              "      <td>0.006551</td>\n",
              "      <td>[2.34375, 2.359375]</td>\n",
              "    </tr>\n",
              "    <tr>\n",
              "      <th>8</th>\n",
              "      <td>2.355469</td>\n",
              "      <td>2.359375</td>\n",
              "      <td>2.356445</td>\n",
              "      <td>0.001026</td>\n",
              "      <td>[2.3515625, 2.359375]</td>\n",
              "    </tr>\n",
              "    <tr>\n",
              "      <th>9</th>\n",
              "      <td>2.355469</td>\n",
              "      <td>2.357422</td>\n",
              "      <td>2.356445</td>\n",
              "      <td>-0.001736</td>\n",
              "      <td>[2.35546875, 2.359375]</td>\n",
              "    </tr>\n",
              "    <tr>\n",
              "      <th>10</th>\n",
              "      <td>2.355469</td>\n",
              "      <td>2.357422</td>\n",
              "      <td>2.356445</td>\n",
              "      <td>-0.000355</td>\n",
              "      <td>[2.35546875, 2.357421875]</td>\n",
              "    </tr>\n",
              "  </tbody>\n",
              "</table>\n",
              "</div>\n",
              "      <button class=\"colab-df-convert\" onclick=\"convertToInteractive('df-d8e116ed-3df3-406f-8dce-8485c048652e')\"\n",
              "              title=\"Convert this dataframe to an interactive table.\"\n",
              "              style=\"display:none;\">\n",
              "        \n",
              "  <svg xmlns=\"http://www.w3.org/2000/svg\" height=\"24px\"viewBox=\"0 0 24 24\"\n",
              "       width=\"24px\">\n",
              "    <path d=\"M0 0h24v24H0V0z\" fill=\"none\"/>\n",
              "    <path d=\"M18.56 5.44l.94 2.06.94-2.06 2.06-.94-2.06-.94-.94-2.06-.94 2.06-2.06.94zm-11 1L8.5 8.5l.94-2.06 2.06-.94-2.06-.94L8.5 2.5l-.94 2.06-2.06.94zm10 10l.94 2.06.94-2.06 2.06-.94-2.06-.94-.94-2.06-.94 2.06-2.06.94z\"/><path d=\"M17.41 7.96l-1.37-1.37c-.4-.4-.92-.59-1.43-.59-.52 0-1.04.2-1.43.59L10.3 9.45l-7.72 7.72c-.78.78-.78 2.05 0 2.83L4 21.41c.39.39.9.59 1.41.59.51 0 1.02-.2 1.41-.59l7.78-7.78 2.81-2.81c.8-.78.8-2.07 0-2.86zM5.41 20L4 18.59l7.72-7.72 1.47 1.35L5.41 20z\"/>\n",
              "  </svg>\n",
              "      </button>\n",
              "      \n",
              "  <style>\n",
              "    .colab-df-container {\n",
              "      display:flex;\n",
              "      flex-wrap:wrap;\n",
              "      gap: 12px;\n",
              "    }\n",
              "\n",
              "    .colab-df-convert {\n",
              "      background-color: #E8F0FE;\n",
              "      border: none;\n",
              "      border-radius: 50%;\n",
              "      cursor: pointer;\n",
              "      display: none;\n",
              "      fill: #1967D2;\n",
              "      height: 32px;\n",
              "      padding: 0 0 0 0;\n",
              "      width: 32px;\n",
              "    }\n",
              "\n",
              "    .colab-df-convert:hover {\n",
              "      background-color: #E2EBFA;\n",
              "      box-shadow: 0px 1px 2px rgba(60, 64, 67, 0.3), 0px 1px 3px 1px rgba(60, 64, 67, 0.15);\n",
              "      fill: #174EA6;\n",
              "    }\n",
              "\n",
              "    [theme=dark] .colab-df-convert {\n",
              "      background-color: #3B4455;\n",
              "      fill: #D2E3FC;\n",
              "    }\n",
              "\n",
              "    [theme=dark] .colab-df-convert:hover {\n",
              "      background-color: #434B5C;\n",
              "      box-shadow: 0px 1px 3px 1px rgba(0, 0, 0, 0.15);\n",
              "      filter: drop-shadow(0px 1px 2px rgba(0, 0, 0, 0.3));\n",
              "      fill: #FFFFFF;\n",
              "    }\n",
              "  </style>\n",
              "\n",
              "      <script>\n",
              "        const buttonEl =\n",
              "          document.querySelector('#df-d8e116ed-3df3-406f-8dce-8485c048652e button.colab-df-convert');\n",
              "        buttonEl.style.display =\n",
              "          google.colab.kernel.accessAllowed ? 'block' : 'none';\n",
              "\n",
              "        async function convertToInteractive(key) {\n",
              "          const element = document.querySelector('#df-d8e116ed-3df3-406f-8dce-8485c048652e');\n",
              "          const dataTable =\n",
              "            await google.colab.kernel.invokeFunction('convertToInteractive',\n",
              "                                                     [key], {});\n",
              "          if (!dataTable) return;\n",
              "\n",
              "          const docLinkHtml = 'Like what you see? Visit the ' +\n",
              "            '<a target=\"_blank\" href=https://colab.research.google.com/notebooks/data_table.ipynb>data table notebook</a>'\n",
              "            + ' to learn more about interactive tables.';\n",
              "          element.innerHTML = '';\n",
              "          dataTable['output_type'] = 'display_data';\n",
              "          await google.colab.output.renderOutput(dataTable, element);\n",
              "          const docLink = document.createElement('div');\n",
              "          docLink.innerHTML = docLinkHtml;\n",
              "          element.appendChild(docLink);\n",
              "        }\n",
              "      </script>\n",
              "    </div>\n",
              "  </div>\n",
              "  "
            ]
          },
          "metadata": {},
          "execution_count": 649
        }
      ]
    },
    {
      "cell_type": "code",
      "source": [
        "falsePositionSolution"
      ],
      "metadata": {
        "colab": {
          "base_uri": "https://localhost:8080/",
          "height": 112
        },
        "id": "IgQ8li--EpcX",
        "outputId": "67ca21c3-73c1-4935-de49-474a6a2bd37e"
      },
      "execution_count": 650,
      "outputs": [
        {
          "output_type": "execute_result",
          "data": {
            "text/plain": [
              "   a         b     Raiz     Sinal                intervalo\n",
              "1  2  2.367468  2.35596 -0.015943                   [2, 3]\n",
              "2  2  2.367468  2.35596  0.000331  [2, 2.3674680399032155]"
            ],
            "text/html": [
              "\n",
              "  <div id=\"df-2f354b9e-a930-4a75-a0bb-574a04e6db81\">\n",
              "    <div class=\"colab-df-container\">\n",
              "      <div>\n",
              "<style scoped>\n",
              "    .dataframe tbody tr th:only-of-type {\n",
              "        vertical-align: middle;\n",
              "    }\n",
              "\n",
              "    .dataframe tbody tr th {\n",
              "        vertical-align: top;\n",
              "    }\n",
              "\n",
              "    .dataframe thead th {\n",
              "        text-align: right;\n",
              "    }\n",
              "</style>\n",
              "<table border=\"1\" class=\"dataframe\">\n",
              "  <thead>\n",
              "    <tr style=\"text-align: right;\">\n",
              "      <th></th>\n",
              "      <th>a</th>\n",
              "      <th>b</th>\n",
              "      <th>Raiz</th>\n",
              "      <th>Sinal</th>\n",
              "      <th>intervalo</th>\n",
              "    </tr>\n",
              "  </thead>\n",
              "  <tbody>\n",
              "    <tr>\n",
              "      <th>1</th>\n",
              "      <td>2</td>\n",
              "      <td>2.367468</td>\n",
              "      <td>2.35596</td>\n",
              "      <td>-0.015943</td>\n",
              "      <td>[2, 3]</td>\n",
              "    </tr>\n",
              "    <tr>\n",
              "      <th>2</th>\n",
              "      <td>2</td>\n",
              "      <td>2.367468</td>\n",
              "      <td>2.35596</td>\n",
              "      <td>0.000331</td>\n",
              "      <td>[2, 2.3674680399032155]</td>\n",
              "    </tr>\n",
              "  </tbody>\n",
              "</table>\n",
              "</div>\n",
              "      <button class=\"colab-df-convert\" onclick=\"convertToInteractive('df-2f354b9e-a930-4a75-a0bb-574a04e6db81')\"\n",
              "              title=\"Convert this dataframe to an interactive table.\"\n",
              "              style=\"display:none;\">\n",
              "        \n",
              "  <svg xmlns=\"http://www.w3.org/2000/svg\" height=\"24px\"viewBox=\"0 0 24 24\"\n",
              "       width=\"24px\">\n",
              "    <path d=\"M0 0h24v24H0V0z\" fill=\"none\"/>\n",
              "    <path d=\"M18.56 5.44l.94 2.06.94-2.06 2.06-.94-2.06-.94-.94-2.06-.94 2.06-2.06.94zm-11 1L8.5 8.5l.94-2.06 2.06-.94-2.06-.94L8.5 2.5l-.94 2.06-2.06.94zm10 10l.94 2.06.94-2.06 2.06-.94-2.06-.94-.94-2.06-.94 2.06-2.06.94z\"/><path d=\"M17.41 7.96l-1.37-1.37c-.4-.4-.92-.59-1.43-.59-.52 0-1.04.2-1.43.59L10.3 9.45l-7.72 7.72c-.78.78-.78 2.05 0 2.83L4 21.41c.39.39.9.59 1.41.59.51 0 1.02-.2 1.41-.59l7.78-7.78 2.81-2.81c.8-.78.8-2.07 0-2.86zM5.41 20L4 18.59l7.72-7.72 1.47 1.35L5.41 20z\"/>\n",
              "  </svg>\n",
              "      </button>\n",
              "      \n",
              "  <style>\n",
              "    .colab-df-container {\n",
              "      display:flex;\n",
              "      flex-wrap:wrap;\n",
              "      gap: 12px;\n",
              "    }\n",
              "\n",
              "    .colab-df-convert {\n",
              "      background-color: #E8F0FE;\n",
              "      border: none;\n",
              "      border-radius: 50%;\n",
              "      cursor: pointer;\n",
              "      display: none;\n",
              "      fill: #1967D2;\n",
              "      height: 32px;\n",
              "      padding: 0 0 0 0;\n",
              "      width: 32px;\n",
              "    }\n",
              "\n",
              "    .colab-df-convert:hover {\n",
              "      background-color: #E2EBFA;\n",
              "      box-shadow: 0px 1px 2px rgba(60, 64, 67, 0.3), 0px 1px 3px 1px rgba(60, 64, 67, 0.15);\n",
              "      fill: #174EA6;\n",
              "    }\n",
              "\n",
              "    [theme=dark] .colab-df-convert {\n",
              "      background-color: #3B4455;\n",
              "      fill: #D2E3FC;\n",
              "    }\n",
              "\n",
              "    [theme=dark] .colab-df-convert:hover {\n",
              "      background-color: #434B5C;\n",
              "      box-shadow: 0px 1px 3px 1px rgba(0, 0, 0, 0.15);\n",
              "      filter: drop-shadow(0px 1px 2px rgba(0, 0, 0, 0.3));\n",
              "      fill: #FFFFFF;\n",
              "    }\n",
              "  </style>\n",
              "\n",
              "      <script>\n",
              "        const buttonEl =\n",
              "          document.querySelector('#df-2f354b9e-a930-4a75-a0bb-574a04e6db81 button.colab-df-convert');\n",
              "        buttonEl.style.display =\n",
              "          google.colab.kernel.accessAllowed ? 'block' : 'none';\n",
              "\n",
              "        async function convertToInteractive(key) {\n",
              "          const element = document.querySelector('#df-2f354b9e-a930-4a75-a0bb-574a04e6db81');\n",
              "          const dataTable =\n",
              "            await google.colab.kernel.invokeFunction('convertToInteractive',\n",
              "                                                     [key], {});\n",
              "          if (!dataTable) return;\n",
              "\n",
              "          const docLinkHtml = 'Like what you see? Visit the ' +\n",
              "            '<a target=\"_blank\" href=https://colab.research.google.com/notebooks/data_table.ipynb>data table notebook</a>'\n",
              "            + ' to learn more about interactive tables.';\n",
              "          element.innerHTML = '';\n",
              "          dataTable['output_type'] = 'display_data';\n",
              "          await google.colab.output.renderOutput(dataTable, element);\n",
              "          const docLink = document.createElement('div');\n",
              "          docLink.innerHTML = docLinkHtml;\n",
              "          element.appendChild(docLink);\n",
              "        }\n",
              "      </script>\n",
              "    </div>\n",
              "  </div>\n",
              "  "
            ]
          },
          "metadata": {},
          "execution_count": 650
        }
      ]
    },
    {
      "cell_type": "markdown",
      "source": [
        "### 2. $$\n",
        "f(x)=2x^3+5ln(x)-x \\\\\n",
        "[0.5,1] \\\\\n",
        "E<0.0005\n",
        "$$"
      ],
      "metadata": {
        "id": "-2P0dH604Spe"
      }
    },
    {
      "cell_type": "code",
      "source": [
        "def func(x):\n",
        "  return (2*(x**3)) + (5 * math.log(x)) - x\n",
        "\n",
        "a = 0.5; b =1;\n",
        "criterion = 0.0005\n",
        "\n",
        "bisectionSolution, falsePositionSolution = resolution(func, a, b, criterion)"
      ],
      "metadata": {
        "id": "z74VFyqZFnYD"
      },
      "execution_count": 651,
      "outputs": []
    },
    {
      "cell_type": "code",
      "source": [
        "bisectionSolution"
      ],
      "metadata": {
        "colab": {
          "base_uri": "https://localhost:8080/",
          "height": 394
        },
        "id": "UW2NvUkSF7nK",
        "outputId": "104b4ffc-33f8-4765-cbe9-bf6274fa3654"
      },
      "execution_count": 652,
      "outputs": [
        {
          "output_type": "execute_result",
          "data": {
            "text/plain": [
              "           a         b      Raiz     Sinal                     intervalo\n",
              "1   0.750000  1.000000  0.896729 -1.344660                      [0.5, 1]\n",
              "2   0.875000  1.000000  0.896729 -0.202813                     [0.75, 1]\n",
              "3   0.875000  0.937500  0.896729  0.387757                    [0.875, 1]\n",
              "4   0.875000  0.906250  0.896729  0.090136               [0.875, 0.9375]\n",
              "5   0.890625  0.906250  0.896729 -0.056874              [0.875, 0.90625]\n",
              "6   0.890625  0.898438  0.896729  0.016491           [0.890625, 0.90625]\n",
              "7   0.894531  0.898438  0.896729 -0.020225         [0.890625, 0.8984375]\n",
              "8   0.896484  0.898438  0.896729 -0.001876       [0.89453125, 0.8984375]\n",
              "9   0.896484  0.897461  0.896729  0.007306      [0.896484375, 0.8984375]\n",
              "10  0.896484  0.896973  0.896729  0.002714   [0.896484375, 0.8974609375]\n",
              "11  0.896484  0.896973  0.896729  0.000419  [0.896484375, 0.89697265625]"
            ],
            "text/html": [
              "\n",
              "  <div id=\"df-b0286a8b-3c96-42a7-80d7-906088be24f7\">\n",
              "    <div class=\"colab-df-container\">\n",
              "      <div>\n",
              "<style scoped>\n",
              "    .dataframe tbody tr th:only-of-type {\n",
              "        vertical-align: middle;\n",
              "    }\n",
              "\n",
              "    .dataframe tbody tr th {\n",
              "        vertical-align: top;\n",
              "    }\n",
              "\n",
              "    .dataframe thead th {\n",
              "        text-align: right;\n",
              "    }\n",
              "</style>\n",
              "<table border=\"1\" class=\"dataframe\">\n",
              "  <thead>\n",
              "    <tr style=\"text-align: right;\">\n",
              "      <th></th>\n",
              "      <th>a</th>\n",
              "      <th>b</th>\n",
              "      <th>Raiz</th>\n",
              "      <th>Sinal</th>\n",
              "      <th>intervalo</th>\n",
              "    </tr>\n",
              "  </thead>\n",
              "  <tbody>\n",
              "    <tr>\n",
              "      <th>1</th>\n",
              "      <td>0.750000</td>\n",
              "      <td>1.000000</td>\n",
              "      <td>0.896729</td>\n",
              "      <td>-1.344660</td>\n",
              "      <td>[0.5, 1]</td>\n",
              "    </tr>\n",
              "    <tr>\n",
              "      <th>2</th>\n",
              "      <td>0.875000</td>\n",
              "      <td>1.000000</td>\n",
              "      <td>0.896729</td>\n",
              "      <td>-0.202813</td>\n",
              "      <td>[0.75, 1]</td>\n",
              "    </tr>\n",
              "    <tr>\n",
              "      <th>3</th>\n",
              "      <td>0.875000</td>\n",
              "      <td>0.937500</td>\n",
              "      <td>0.896729</td>\n",
              "      <td>0.387757</td>\n",
              "      <td>[0.875, 1]</td>\n",
              "    </tr>\n",
              "    <tr>\n",
              "      <th>4</th>\n",
              "      <td>0.875000</td>\n",
              "      <td>0.906250</td>\n",
              "      <td>0.896729</td>\n",
              "      <td>0.090136</td>\n",
              "      <td>[0.875, 0.9375]</td>\n",
              "    </tr>\n",
              "    <tr>\n",
              "      <th>5</th>\n",
              "      <td>0.890625</td>\n",
              "      <td>0.906250</td>\n",
              "      <td>0.896729</td>\n",
              "      <td>-0.056874</td>\n",
              "      <td>[0.875, 0.90625]</td>\n",
              "    </tr>\n",
              "    <tr>\n",
              "      <th>6</th>\n",
              "      <td>0.890625</td>\n",
              "      <td>0.898438</td>\n",
              "      <td>0.896729</td>\n",
              "      <td>0.016491</td>\n",
              "      <td>[0.890625, 0.90625]</td>\n",
              "    </tr>\n",
              "    <tr>\n",
              "      <th>7</th>\n",
              "      <td>0.894531</td>\n",
              "      <td>0.898438</td>\n",
              "      <td>0.896729</td>\n",
              "      <td>-0.020225</td>\n",
              "      <td>[0.890625, 0.8984375]</td>\n",
              "    </tr>\n",
              "    <tr>\n",
              "      <th>8</th>\n",
              "      <td>0.896484</td>\n",
              "      <td>0.898438</td>\n",
              "      <td>0.896729</td>\n",
              "      <td>-0.001876</td>\n",
              "      <td>[0.89453125, 0.8984375]</td>\n",
              "    </tr>\n",
              "    <tr>\n",
              "      <th>9</th>\n",
              "      <td>0.896484</td>\n",
              "      <td>0.897461</td>\n",
              "      <td>0.896729</td>\n",
              "      <td>0.007306</td>\n",
              "      <td>[0.896484375, 0.8984375]</td>\n",
              "    </tr>\n",
              "    <tr>\n",
              "      <th>10</th>\n",
              "      <td>0.896484</td>\n",
              "      <td>0.896973</td>\n",
              "      <td>0.896729</td>\n",
              "      <td>0.002714</td>\n",
              "      <td>[0.896484375, 0.8974609375]</td>\n",
              "    </tr>\n",
              "    <tr>\n",
              "      <th>11</th>\n",
              "      <td>0.896484</td>\n",
              "      <td>0.896973</td>\n",
              "      <td>0.896729</td>\n",
              "      <td>0.000419</td>\n",
              "      <td>[0.896484375, 0.89697265625]</td>\n",
              "    </tr>\n",
              "  </tbody>\n",
              "</table>\n",
              "</div>\n",
              "      <button class=\"colab-df-convert\" onclick=\"convertToInteractive('df-b0286a8b-3c96-42a7-80d7-906088be24f7')\"\n",
              "              title=\"Convert this dataframe to an interactive table.\"\n",
              "              style=\"display:none;\">\n",
              "        \n",
              "  <svg xmlns=\"http://www.w3.org/2000/svg\" height=\"24px\"viewBox=\"0 0 24 24\"\n",
              "       width=\"24px\">\n",
              "    <path d=\"M0 0h24v24H0V0z\" fill=\"none\"/>\n",
              "    <path d=\"M18.56 5.44l.94 2.06.94-2.06 2.06-.94-2.06-.94-.94-2.06-.94 2.06-2.06.94zm-11 1L8.5 8.5l.94-2.06 2.06-.94-2.06-.94L8.5 2.5l-.94 2.06-2.06.94zm10 10l.94 2.06.94-2.06 2.06-.94-2.06-.94-.94-2.06-.94 2.06-2.06.94z\"/><path d=\"M17.41 7.96l-1.37-1.37c-.4-.4-.92-.59-1.43-.59-.52 0-1.04.2-1.43.59L10.3 9.45l-7.72 7.72c-.78.78-.78 2.05 0 2.83L4 21.41c.39.39.9.59 1.41.59.51 0 1.02-.2 1.41-.59l7.78-7.78 2.81-2.81c.8-.78.8-2.07 0-2.86zM5.41 20L4 18.59l7.72-7.72 1.47 1.35L5.41 20z\"/>\n",
              "  </svg>\n",
              "      </button>\n",
              "      \n",
              "  <style>\n",
              "    .colab-df-container {\n",
              "      display:flex;\n",
              "      flex-wrap:wrap;\n",
              "      gap: 12px;\n",
              "    }\n",
              "\n",
              "    .colab-df-convert {\n",
              "      background-color: #E8F0FE;\n",
              "      border: none;\n",
              "      border-radius: 50%;\n",
              "      cursor: pointer;\n",
              "      display: none;\n",
              "      fill: #1967D2;\n",
              "      height: 32px;\n",
              "      padding: 0 0 0 0;\n",
              "      width: 32px;\n",
              "    }\n",
              "\n",
              "    .colab-df-convert:hover {\n",
              "      background-color: #E2EBFA;\n",
              "      box-shadow: 0px 1px 2px rgba(60, 64, 67, 0.3), 0px 1px 3px 1px rgba(60, 64, 67, 0.15);\n",
              "      fill: #174EA6;\n",
              "    }\n",
              "\n",
              "    [theme=dark] .colab-df-convert {\n",
              "      background-color: #3B4455;\n",
              "      fill: #D2E3FC;\n",
              "    }\n",
              "\n",
              "    [theme=dark] .colab-df-convert:hover {\n",
              "      background-color: #434B5C;\n",
              "      box-shadow: 0px 1px 3px 1px rgba(0, 0, 0, 0.15);\n",
              "      filter: drop-shadow(0px 1px 2px rgba(0, 0, 0, 0.3));\n",
              "      fill: #FFFFFF;\n",
              "    }\n",
              "  </style>\n",
              "\n",
              "      <script>\n",
              "        const buttonEl =\n",
              "          document.querySelector('#df-b0286a8b-3c96-42a7-80d7-906088be24f7 button.colab-df-convert');\n",
              "        buttonEl.style.display =\n",
              "          google.colab.kernel.accessAllowed ? 'block' : 'none';\n",
              "\n",
              "        async function convertToInteractive(key) {\n",
              "          const element = document.querySelector('#df-b0286a8b-3c96-42a7-80d7-906088be24f7');\n",
              "          const dataTable =\n",
              "            await google.colab.kernel.invokeFunction('convertToInteractive',\n",
              "                                                     [key], {});\n",
              "          if (!dataTable) return;\n",
              "\n",
              "          const docLinkHtml = 'Like what you see? Visit the ' +\n",
              "            '<a target=\"_blank\" href=https://colab.research.google.com/notebooks/data_table.ipynb>data table notebook</a>'\n",
              "            + ' to learn more about interactive tables.';\n",
              "          element.innerHTML = '';\n",
              "          dataTable['output_type'] = 'display_data';\n",
              "          await google.colab.output.renderOutput(dataTable, element);\n",
              "          const docLink = document.createElement('div');\n",
              "          docLink.innerHTML = docLinkHtml;\n",
              "          element.appendChild(docLink);\n",
              "        }\n",
              "      </script>\n",
              "    </div>\n",
              "  </div>\n",
              "  "
            ]
          },
          "metadata": {},
          "execution_count": 652
        }
      ]
    },
    {
      "cell_type": "code",
      "source": [
        "falsePositionSolution"
      ],
      "metadata": {
        "colab": {
          "base_uri": "https://localhost:8080/",
          "height": 143
        },
        "id": "DUJmG0HZF7ey",
        "outputId": "ac30481f-bcd9-440f-f33d-6287d4f746b3"
      },
      "execution_count": 653,
      "outputs": [
        {
          "output_type": "execute_result",
          "data": {
            "text/plain": [
              "          a  b      Raiz     Sinal                intervalo\n",
              "1  0.893972  1  0.896682 -0.025476                 [0.5, 1]\n",
              "2  0.896606  1  0.896682 -0.000731  [0.8939720098186265, 1]\n",
              "3  0.896606  1  0.896682 -0.000021  [0.8966061065925499, 1]"
            ],
            "text/html": [
              "\n",
              "  <div id=\"df-ddd4c990-6f34-4fb7-af39-1a4cd1b54515\">\n",
              "    <div class=\"colab-df-container\">\n",
              "      <div>\n",
              "<style scoped>\n",
              "    .dataframe tbody tr th:only-of-type {\n",
              "        vertical-align: middle;\n",
              "    }\n",
              "\n",
              "    .dataframe tbody tr th {\n",
              "        vertical-align: top;\n",
              "    }\n",
              "\n",
              "    .dataframe thead th {\n",
              "        text-align: right;\n",
              "    }\n",
              "</style>\n",
              "<table border=\"1\" class=\"dataframe\">\n",
              "  <thead>\n",
              "    <tr style=\"text-align: right;\">\n",
              "      <th></th>\n",
              "      <th>a</th>\n",
              "      <th>b</th>\n",
              "      <th>Raiz</th>\n",
              "      <th>Sinal</th>\n",
              "      <th>intervalo</th>\n",
              "    </tr>\n",
              "  </thead>\n",
              "  <tbody>\n",
              "    <tr>\n",
              "      <th>1</th>\n",
              "      <td>0.893972</td>\n",
              "      <td>1</td>\n",
              "      <td>0.896682</td>\n",
              "      <td>-0.025476</td>\n",
              "      <td>[0.5, 1]</td>\n",
              "    </tr>\n",
              "    <tr>\n",
              "      <th>2</th>\n",
              "      <td>0.896606</td>\n",
              "      <td>1</td>\n",
              "      <td>0.896682</td>\n",
              "      <td>-0.000731</td>\n",
              "      <td>[0.8939720098186265, 1]</td>\n",
              "    </tr>\n",
              "    <tr>\n",
              "      <th>3</th>\n",
              "      <td>0.896606</td>\n",
              "      <td>1</td>\n",
              "      <td>0.896682</td>\n",
              "      <td>-0.000021</td>\n",
              "      <td>[0.8966061065925499, 1]</td>\n",
              "    </tr>\n",
              "  </tbody>\n",
              "</table>\n",
              "</div>\n",
              "      <button class=\"colab-df-convert\" onclick=\"convertToInteractive('df-ddd4c990-6f34-4fb7-af39-1a4cd1b54515')\"\n",
              "              title=\"Convert this dataframe to an interactive table.\"\n",
              "              style=\"display:none;\">\n",
              "        \n",
              "  <svg xmlns=\"http://www.w3.org/2000/svg\" height=\"24px\"viewBox=\"0 0 24 24\"\n",
              "       width=\"24px\">\n",
              "    <path d=\"M0 0h24v24H0V0z\" fill=\"none\"/>\n",
              "    <path d=\"M18.56 5.44l.94 2.06.94-2.06 2.06-.94-2.06-.94-.94-2.06-.94 2.06-2.06.94zm-11 1L8.5 8.5l.94-2.06 2.06-.94-2.06-.94L8.5 2.5l-.94 2.06-2.06.94zm10 10l.94 2.06.94-2.06 2.06-.94-2.06-.94-.94-2.06-.94 2.06-2.06.94z\"/><path d=\"M17.41 7.96l-1.37-1.37c-.4-.4-.92-.59-1.43-.59-.52 0-1.04.2-1.43.59L10.3 9.45l-7.72 7.72c-.78.78-.78 2.05 0 2.83L4 21.41c.39.39.9.59 1.41.59.51 0 1.02-.2 1.41-.59l7.78-7.78 2.81-2.81c.8-.78.8-2.07 0-2.86zM5.41 20L4 18.59l7.72-7.72 1.47 1.35L5.41 20z\"/>\n",
              "  </svg>\n",
              "      </button>\n",
              "      \n",
              "  <style>\n",
              "    .colab-df-container {\n",
              "      display:flex;\n",
              "      flex-wrap:wrap;\n",
              "      gap: 12px;\n",
              "    }\n",
              "\n",
              "    .colab-df-convert {\n",
              "      background-color: #E8F0FE;\n",
              "      border: none;\n",
              "      border-radius: 50%;\n",
              "      cursor: pointer;\n",
              "      display: none;\n",
              "      fill: #1967D2;\n",
              "      height: 32px;\n",
              "      padding: 0 0 0 0;\n",
              "      width: 32px;\n",
              "    }\n",
              "\n",
              "    .colab-df-convert:hover {\n",
              "      background-color: #E2EBFA;\n",
              "      box-shadow: 0px 1px 2px rgba(60, 64, 67, 0.3), 0px 1px 3px 1px rgba(60, 64, 67, 0.15);\n",
              "      fill: #174EA6;\n",
              "    }\n",
              "\n",
              "    [theme=dark] .colab-df-convert {\n",
              "      background-color: #3B4455;\n",
              "      fill: #D2E3FC;\n",
              "    }\n",
              "\n",
              "    [theme=dark] .colab-df-convert:hover {\n",
              "      background-color: #434B5C;\n",
              "      box-shadow: 0px 1px 3px 1px rgba(0, 0, 0, 0.15);\n",
              "      filter: drop-shadow(0px 1px 2px rgba(0, 0, 0, 0.3));\n",
              "      fill: #FFFFFF;\n",
              "    }\n",
              "  </style>\n",
              "\n",
              "      <script>\n",
              "        const buttonEl =\n",
              "          document.querySelector('#df-ddd4c990-6f34-4fb7-af39-1a4cd1b54515 button.colab-df-convert');\n",
              "        buttonEl.style.display =\n",
              "          google.colab.kernel.accessAllowed ? 'block' : 'none';\n",
              "\n",
              "        async function convertToInteractive(key) {\n",
              "          const element = document.querySelector('#df-ddd4c990-6f34-4fb7-af39-1a4cd1b54515');\n",
              "          const dataTable =\n",
              "            await google.colab.kernel.invokeFunction('convertToInteractive',\n",
              "                                                     [key], {});\n",
              "          if (!dataTable) return;\n",
              "\n",
              "          const docLinkHtml = 'Like what you see? Visit the ' +\n",
              "            '<a target=\"_blank\" href=https://colab.research.google.com/notebooks/data_table.ipynb>data table notebook</a>'\n",
              "            + ' to learn more about interactive tables.';\n",
              "          element.innerHTML = '';\n",
              "          dataTable['output_type'] = 'display_data';\n",
              "          await google.colab.output.renderOutput(dataTable, element);\n",
              "          const docLink = document.createElement('div');\n",
              "          docLink.innerHTML = docLinkHtml;\n",
              "          element.appendChild(docLink);\n",
              "        }\n",
              "      </script>\n",
              "    </div>\n",
              "  </div>\n",
              "  "
            ]
          },
          "metadata": {},
          "execution_count": 653
        }
      ]
    },
    {
      "cell_type": "markdown",
      "source": [
        "### 3. $$\n",
        "f(x)=2.ln(x)+4sen(x) \\\\\n",
        "[4,5] \\\\\n",
        "E<0.05\n",
        "$$"
      ],
      "metadata": {
        "id": "Xu-gVJMp4p-8"
      }
    },
    {
      "cell_type": "code",
      "source": [
        "def func(x):\n",
        "  return (2*math.log(x)) + (4 * math.sin(x))\n",
        "\n",
        "a = 4; b =5;\n",
        "criterion = 0.05\n",
        "\n",
        "bisectionSolution, falsePositionSolution = resolution(func, a, b, criterion)"
      ],
      "metadata": {
        "id": "ioIsfihpHkwU"
      },
      "execution_count": 654,
      "outputs": []
    },
    {
      "cell_type": "code",
      "source": [
        "bisectionSolution"
      ],
      "metadata": {
        "colab": {
          "base_uri": "https://localhost:8080/",
          "height": 35
        },
        "id": "Fcwnz2f7HuER",
        "outputId": "38071029-325e-4a71-b7d1-2f776249437c"
      },
      "execution_count": 655,
      "outputs": [
        {
          "output_type": "execute_result",
          "data": {
            "text/plain": [
              "'Não há Raiz.'"
            ],
            "application/vnd.google.colaboratory.intrinsic+json": {
              "type": "string"
            }
          },
          "metadata": {},
          "execution_count": 655
        }
      ]
    },
    {
      "cell_type": "code",
      "source": [
        "falsePositionSolution"
      ],
      "metadata": {
        "colab": {
          "base_uri": "https://localhost:8080/",
          "height": 35
        },
        "id": "lwBhbqVOHwpn",
        "outputId": "d4b06595-470d-4904-dbf9-31fa36527ea2"
      },
      "execution_count": 656,
      "outputs": [
        {
          "output_type": "execute_result",
          "data": {
            "text/plain": [
              "'Não há Raiz.'"
            ],
            "application/vnd.google.colaboratory.intrinsic+json": {
              "type": "string"
            }
          },
          "metadata": {},
          "execution_count": 656
        }
      ]
    }
  ]
}